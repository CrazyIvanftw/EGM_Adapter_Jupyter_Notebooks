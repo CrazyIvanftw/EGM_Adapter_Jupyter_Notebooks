{
 "cells": [
  {
   "cell_type": "code",
   "execution_count": 1,
   "metadata": {},
   "outputs": [],
   "source": [
    "import sys\n",
    "stdout = sys.stdout\n",
    "reload(sys)\n",
    "sys.setdefaultencoding('utf-8')\n",
    "sys.stdout = stdout\n",
    "import socket\n",
    "import test_pb2 as test_proto\n",
    "import lth_egm_interface_pb2 as interface_proto"
   ]
  },
  {
   "cell_type": "code",
   "execution_count": 2,
   "metadata": {},
   "outputs": [],
   "source": [
    "UDP_IP_ADDRESS = \"127.0.0.1\"\n",
    "UDP_PORT_NO = 8081             #this is probably irrelivant \n",
    "UDP_SERVER_PORT_NO = 8080"
   ]
  },
  {
   "cell_type": "code",
   "execution_count": 3,
   "metadata": {},
   "outputs": [],
   "source": [
    "def make_test_request():\n",
    "    \"\"\"populate an EGM_Control message with data for a request of all current robot data\"\"\"\n",
    "    request = interface_proto.EGM_Control()\n",
    "    request.header.mtype = interface_proto.Header.MSGTYPE_REQUEST_ALL_VALUES\n",
    "    return request"
   ]
  },
  {
   "cell_type": "code",
   "execution_count": null,
   "metadata": {},
   "outputs": [],
   "source": [
    "def make_target_command(target):\n",
    "    \"\"\"populate an EGM_Control message with data to provide a new desired target\"\"\"\n",
    "    command = interface_proto.EGM_Control()\n",
    "    command.header.mtype = interface_proto.Header.MSGTYPE_POS_COMMAND\n",
    "    command.desiredPosition.cartesian_x = target[0]\n",
    "    command.desiredPosition.cartesian_y = target[1]\n",
    "    command.desiredPosition.cartesian_z = target[2]\n",
    "    return command"
   ]
  },
  {
   "cell_type": "code",
   "execution_count": null,
   "metadata": {},
   "outputs": [],
   "source": [
    "def make_target(x, y, z):\n",
    "    \"\"\"make a target... simple right now, will include more than x, y, z in future\"\"\"\n",
    "    target = [x, y, z,]\n",
    "    return target"
   ]
  },
  {
   "cell_type": "code",
   "execution_count": null,
   "metadata": {},
   "outputs": [],
   "source": [
    "def check_target_convergence(targ1, targ2, conv_criteria):\n",
    "    \"\"\"Unimplemented\"\"\""
   ]
  },
  {
   "cell_type": "code",
   "execution_count": null,
   "metadata": {},
   "outputs": [],
   "source": [
    "def send_interface_message(server_address, interface_message):\n",
    "    \"\"\"send an EGM_Control message to the server and return the response\"\"\"\n",
    "    client_socket = socket.socket(socket.AF_INET, socket.SOCK_DGRAM)\n",
    "    try:\n",
    "        sent = client_socket.sendto(interface_message.SerializeToString(), server_address)\n",
    "        response_data, server = client_socket.recvfrom(4096)\n",
    "        response = interface_proto.EGM_Control()\n",
    "        if len(response_data) is not None:\n",
    "            response.ParseFromString(response_data)\n",
    "        else:\n",
    "            print \"no response\"\n",
    "    finally:\n",
    "        client_socket.close()\n",
    "        return response"
   ]
  },
  {
   "cell_type": "code",
   "execution_count": null,
   "metadata": {},
   "outputs": [],
   "source": [
    "# this is a test path... the plan is to use this path to control \n",
    "# the robot in position guidance\n",
    "target0 = [-0.05758161, -0.056587974, 10.010103493 ]\n",
    "target1 = [299.94241839, -0.056587974, 10.010103493]\n",
    "target2 = [299.94241839, -200.056587974, 10.010103493]\n",
    "target3 = [213.474183961, -200.056587974, 10.010103493]\n",
    "target4 = [190.254237086, -126.401926961, 10.010103493]\n",
    "target5 = [122.459604485, -163.389260093, 10.010103493]\n",
    "target6 = [59.039406438, -163.389260093, 10.010103493]\n",
    "target7 = [33.084307566, -142.780034243, 10.010103493]\n",
    "target8 = [-0.05758161, -0.056587974, 10.010103493]\n",
    "path = []\n",
    "path.append(target0)\n",
    "path.append(target1)\n",
    "path.append(target2)\n",
    "path.append(target3)\n",
    "path.append(target4)\n",
    "path.append(target5)\n",
    "path.append(target6)\n",
    "path.append(target7)\n",
    "path.append(target8)"
   ]
  },
  {
   "cell_type": "code",
   "execution_count": 4,
   "metadata": {},
   "outputs": [
    {
     "name": "stdout",
     "output_type": "stream",
     "text": [
      "sending...\n",
      "header {\n",
      "  mtype: MSGTYPE_REQUEST_ALL_VALUES\n",
      "}\n",
      "\n",
      "waiting for response...\n",
      "header {\n",
      "  mtype: MSGTYPE_ACK_ALL_VALUES\n",
      "}\n",
      "desiredPosition {\n",
      "  cartesian_x: 0.0\n",
      "  cartesian_y: 1.0\n",
      "  cartesian_z: 2.0\n",
      "}\n",
      "currentPosition {\n",
      "  cartesian_x: 0.0\n",
      "  cartesian_y: 1.0\n",
      "  cartesian_z: 2.0\n",
      "}\n",
      "plannedPosition {\n",
      "  cartesian_x: 0.0\n",
      "  cartesian_y: 1.0\n",
      "  cartesian_z: 2.0\n",
      "}\n",
      "feedback {\n",
      "  motorState: MOTORS_UNDEFINED\n",
      "  mciState: MCI_ERROR\n",
      "  mciConvergenceMet: false\n",
      "  rapidExceState: RAPID_UNDEFINED\n",
      "}\n",
      "\n",
      "closing client socket...\n"
     ]
    }
   ],
   "source": [
    "# this is the setup for the test of the dummy server: send a request \n",
    "# for everything to the server -> print out the dummy response\n",
    "client_socket = socket.socket(socket.AF_INET, socket.SOCK_DGRAM)\n",
    "server_address = (UDP_IP_ADDRESS, UDP_SERVER_PORT_NO)\n",
    "data = make_test_request()\n",
    "try:\n",
    "    #send data\n",
    "    print \"sending...\"\n",
    "    print data\n",
    "    sent = client_socket.sendto(data.SerializeToString(), server_address)\n",
    "    #receive response\n",
    "    print \"waiting for response...\"\n",
    "    response_data, server = client_socket.recvfrom(4096)\n",
    "    if len(response_data) is not None:\n",
    "        response = interface_proto.EGM_Control()\n",
    "        response.ParseFromString(response_data)\n",
    "        print response\n",
    "    else:\n",
    "        print \"no response\"\n",
    "        \n",
    "finally:\n",
    "    print \"closing client socket...\"\n",
    "    client_socket.close()\n",
    "        \n",
    "            "
   ]
  },
  {
   "cell_type": "code",
   "execution_count": null,
   "metadata": {},
   "outputs": [],
   "source": []
  }
 ],
 "metadata": {
  "kernelspec": {
   "display_name": "Python 2",
   "language": "python",
   "name": "python2"
  },
  "language_info": {
   "codemirror_mode": {
    "name": "ipython",
    "version": 2
   },
   "file_extension": ".py",
   "mimetype": "text/x-python",
   "name": "python",
   "nbconvert_exporter": "python",
   "pygments_lexer": "ipython2",
   "version": "2.7.15"
  }
 },
 "nbformat": 4,
 "nbformat_minor": 2
}
