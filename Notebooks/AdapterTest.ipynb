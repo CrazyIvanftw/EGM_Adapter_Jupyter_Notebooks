{
 "cells": [
  {
   "cell_type": "code",
   "execution_count": 1,
   "metadata": {},
   "outputs": [],
   "source": [
    "import sys\n",
    "stdout = sys.stdout\n",
    "reload(sys)\n",
    "sys.setdefaultencoding('utf-8')\n",
    "sys.stdout = stdout\n",
    "\n",
    "#print(sys.version)\n",
    "\n",
    "# you may need to uninstall google because it causes conflicts with the protobuf v2.4.1\n",
    "#!{sys.executable} -m pip uninstall google\n",
    "\n",
    "# install protobuf v2.4.1\n",
    "#!{sys.executable} -m pip install protobuf==2.4.1 --force-reinstall\n",
    "\n",
    "# you might need to upgrade your package manager stuff\n",
    "#!{sys.executable} -m pip install --upgrade pip\n",
    "#!{sys.executable} -m pip install --upgrade setuptools\n"
   ]
  },
  {
   "cell_type": "code",
   "execution_count": 7,
   "metadata": {
    "scrolled": false
   },
   "outputs": [],
   "source": [
    "import socket\n",
    "import test_pb2 as gpb\n",
    "import line_sensor_pb2 as sensor\n",
    "import lth_egm_interface_pb2 as control"
   ]
  },
  {
   "cell_type": "code",
   "execution_count": 3,
   "metadata": {},
   "outputs": [],
   "source": [
    "UDP_IP_ADDRESS = \"127.0.0.1\"\n",
    "UDP_PORT_NO = 12345"
   ]
  },
  {
   "cell_type": "code",
   "execution_count": 4,
   "metadata": {},
   "outputs": [],
   "source": [
    "serverSock = socket.socket(socket.AF_INET, socket.SOCK_DGRAM)\n",
    "serverSock.bind((UDP_IP_ADDRESS, UDP_PORT_NO))"
   ]
  },
  {
   "cell_type": "code",
   "execution_count": 10,
   "metadata": {},
   "outputs": [
    {
     "name": "stdout",
     "output_type": "stream",
     "text": [
      "currentPosition {\n",
      "  cartesian_x: 1.0\n",
      "  cartesian_y: 2.0\n",
      "  cartesian_z: 3.0\n",
      "}\n",
      "\n"
     ]
    }
   ],
   "source": [
    "testControl = control.EGM_Control()\n",
    "testControl.currentPosition.cartesian_x = 1.0\n",
    "testControl.currentPosition.cartesian_y = 2.0\n",
    "testControl.currentPosition.cartesian_z = 3.0\n",
    "\n",
    "print testControl"
   ]
  },
  {
   "cell_type": "code",
   "execution_count": 3,
   "metadata": {},
   "outputs": [
    {
     "name": "stdout",
     "output_type": "stream",
     "text": [
      "sensedPoint {\n",
      "  x: 1.0\n",
      "  y: 2.0\n",
      "  z: 3.0\n",
      "}\n",
      "start {\n",
      "  x: 1.0\n",
      "  y: 2.0\n",
      "  z: 3.0\n",
      "}\n",
      "end {\n",
      "  x: 1.0\n",
      "  y: 2.0\n",
      "  z: 3.0\n",
      "}\n",
      "radius: 4.0\n",
      "sensedPart: \"hell if I know\"\n",
      "sensorID: 42\n",
      "\n"
     ]
    }
   ],
   "source": [
    "testSensor = sensor.LineSensor()\n",
    "testSensor.sensedPoint.x = 1.0\n",
    "testSensor.sensedPoint.y = 2.0\n",
    "testSensor.sensedPoint.z = 3.0\n",
    "\n",
    "testSensor.start.x = 1.0\n",
    "testSensor.start.y = 2.0\n",
    "testSensor.start.z = 3.0\n",
    "\n",
    "testSensor.end.x = 1.0\n",
    "testSensor.end.y = 2.0\n",
    "testSensor.end.z = 3.0\n",
    "\n",
    "testSensor.radius = 4.0\n",
    "testSensor.sensedPart = \"hell if I know\"\n",
    "testSensor.sensorID = 42\n",
    "\n",
    "print testSensor"
   ]
  },
  {
   "cell_type": "code",
   "execution_count": 4,
   "metadata": {},
   "outputs": [],
   "source": [
    "class DataStructure():\n",
    "    \"\"\"This is where I'm going to hold the data coming into the Model\"\"\"\n",
    "    \n",
    "    def __init__(self):\n",
    "        \"\"\"Initialize the data structure with a mutex\"\"\"\n",
    "        self.mutex = threading.Lock()\n",
    "        self.sensors = {}\n",
    "        self.oldY = 0.0\n",
    "        self.newY = 0.0\n",
    "        self.deltaY = 0.0"
   ]
  },
  {
   "cell_type": "code",
   "execution_count": 5,
   "metadata": {},
   "outputs": [
    {
     "name": "stdout",
     "output_type": "stream",
     "text": [
      "server started\n",
      "sensedPoint {\n",
      "  x: 1\n",
      "  y: 2\n",
      "  z: 3\n",
      "}\n",
      "start {\n",
      "  x: 1\n",
      "  y: 2\n",
      "  z: 3\n",
      "}\n",
      "end {\n",
      "  x: 1\n",
      "  y: 2\n",
      "  z: 3\n",
      "}\n",
      "radius: 314\n",
      "sensedPart: \"sensed_part_string\"\n",
      "sensorID: 42\n",
      "\n"
     ]
    }
   ],
   "source": [
    "runServer = True\n",
    "while runServer:\n",
    "    print \"server started\"\n",
    "    data, addr = serverSock.recvfrom(1024)\n",
    "    if len(data) is not None:\n",
    "        sensorData = sensor.LineSensor()\n",
    "        sensorData.ParseFromString(data)\n",
    "        print sensorData\n",
    "        runServer = False\n",
    "    else:\n",
    "        print \"no data\"    "
   ]
  },
  {
   "cell_type": "code",
   "execution_count": null,
   "metadata": {},
   "outputs": [],
   "source": [
    "#header = test_pb2.Header()\n",
    "#header.sender = 42\n",
    "#body = test_pb2.Body()\n",
    "#body.msg = \"The answer to life, the universe and everything...\"\n",
    "packet = gpb.Packet()\n",
    "packet.header.sender = 42\n",
    "packet.body.msg = \"The answer to life, the universe and everything is...\"\n",
    "#print packet\n",
    "testdata = packet.SerializeToString()"
   ]
  },
  {
   "cell_type": "code",
   "execution_count": null,
   "metadata": {},
   "outputs": [],
   "source": [
    "newPacket = gpb.Packet()\n",
    "newPacket.ParseFromString(testdata)\n",
    "print newPacket"
   ]
  },
  {
   "cell_type": "code",
   "execution_count": null,
   "metadata": {},
   "outputs": [],
   "source": [
    "runServer = True\n",
    "while runServer:\n",
    "    print \"server started\"\n",
    "    data, addr = serverSock.recvfrom(1024)\n",
    "    if len(data) is not None:\n",
    "        messagePacket = gpb.Packet()\n",
    "        messagePacket.ParseFromString(data)\n",
    "        print messagePacket\n",
    "        runServer = False\n",
    "    else:\n",
    "        print \"no data\"    "
   ]
  },
  {
   "cell_type": "code",
   "execution_count": 3,
   "metadata": {},
   "outputs": [
    {
     "name": "stdout",
     "output_type": "stream",
     "text": [
      "UDP target IP: 127.0.0.1\n",
      "UDP target port: 8080\n",
      "message: Hello, World!\n"
     ]
    },
    {
     "data": {
      "text/plain": [
       "13"
      ]
     },
     "execution_count": 3,
     "metadata": {},
     "output_type": "execute_result"
    }
   ],
   "source": [
    "import socket\n",
    "   \n",
    "UDP_IP = \"127.0.0.1\"\n",
    "UDP_PORT = 8080\n",
    "MESSAGE = \"Hello, World!\"\n",
    "   \n",
    "print \"UDP target IP:\", UDP_IP\n",
    "print \"UDP target port:\", UDP_PORT\n",
    "print \"message:\", MESSAGE\n",
    "sock = socket.socket(socket.AF_INET, socket.SOCK_DGRAM) # UDP\n",
    "sock.sendto(MESSAGE, (UDP_IP, UDP_PORT))"
   ]
  },
  {
   "cell_type": "code",
   "execution_count": null,
   "metadata": {},
   "outputs": [],
   "source": []
  }
 ],
 "metadata": {
  "kernelspec": {
   "display_name": "Python 2",
   "language": "python",
   "name": "python2"
  },
  "language_info": {
   "codemirror_mode": {
    "name": "ipython",
    "version": 2
   },
   "file_extension": ".py",
   "mimetype": "text/x-python",
   "name": "python",
   "nbconvert_exporter": "python",
   "pygments_lexer": "ipython2",
   "version": "2.7.15"
  }
 },
 "nbformat": 4,
 "nbformat_minor": 2
}
