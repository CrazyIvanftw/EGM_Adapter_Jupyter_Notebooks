{
 "cells": [
  {
   "cell_type": "code",
   "execution_count": null,
   "metadata": {},
   "outputs": [],
   "source": [
    "import sys\n",
    "stdout = sys.stdout\n",
    "reload(sys)\n",
    "sys.setdefaultencoding('utf-8')\n",
    "sys.stdout = stdout\n",
    "\n",
    "#print(sys.version)\n",
    "\n",
    "# you may need to uninstall google because it causes conflicts with the protobuf v2.4.1\n",
    "#!{sys.executable} -m pip uninstall google\n",
    "\n",
    "# install protobuf v2.4.1\n",
    "#!{sys.executable} -m pip install protobuf==2.4.1 --force-reinstall\n",
    "\n",
    "# you might need to upgrade your package manager stuff\n",
    "#!{sys.executable} -m pip install --upgrade pip\n",
    "#!{sys.executable} -m pip install --upgrade setuptools\n"
   ]
  },
  {
   "cell_type": "code",
   "execution_count": null,
   "metadata": {
    "scrolled": false
   },
   "outputs": [],
   "source": [
    "import socket\n",
    "import test_pb2 as gpb"
   ]
  },
  {
   "cell_type": "code",
   "execution_count": null,
   "metadata": {},
   "outputs": [],
   "source": [
    "UDP_IP_ADDRESS = \"127.0.0.1\"\n",
    "UDP_PORT_NO = 6789"
   ]
  },
  {
   "cell_type": "code",
   "execution_count": null,
   "metadata": {},
   "outputs": [],
   "source": [
    "serverSock = socket.socket(socket.AF_INET, socket.SOCK_DGRAM)\n",
    "serverSock.bind((UDP_IP_ADDRESS, UDP_PORT_NO))"
   ]
  },
  {
   "cell_type": "code",
   "execution_count": null,
   "metadata": {},
   "outputs": [],
   "source": [
    "#header = test_pb2.Header()\n",
    "#header.sender = 42\n",
    "#body = test_pb2.Body()\n",
    "#body.msg = \"The answer to life, the universe and everything...\"\n",
    "packet = gpb.Packet()\n",
    "packet.header.sender = 42\n",
    "packet.body.msg = \"The answer to life, the universe and everything is...\"\n",
    "#print packet\n",
    "testdata = packet.SerializeToString()"
   ]
  },
  {
   "cell_type": "code",
   "execution_count": null,
   "metadata": {},
   "outputs": [],
   "source": [
    "newPacket = gpb.Packet()\n",
    "newPacket.ParseFromString(testdata)\n",
    "print newPacket"
   ]
  },
  {
   "cell_type": "code",
   "execution_count": null,
   "metadata": {},
   "outputs": [],
   "source": [
    "runServer = True\n",
    "while runServer:\n",
    "    print \"server started\"\n",
    "    data, addr = serverSock.recvfrom(1024)\n",
    "    if len(data) is not None:\n",
    "        messagePacket = gpb.Packet()\n",
    "        messagePacket.ParseFromString(data)\n",
    "        print messagePacket\n",
    "        runServer = False\n",
    "    else:\n",
    "        print \"no data\"    "
   ]
  },
  {
   "cell_type": "code",
   "execution_count": null,
   "metadata": {},
   "outputs": [],
   "source": []
  }
 ],
 "metadata": {
  "kernelspec": {
   "display_name": "Python 2",
   "language": "python",
   "name": "python2"
  },
  "language_info": {
   "codemirror_mode": {
    "name": "ipython",
    "version": 2
   },
   "file_extension": ".py",
   "mimetype": "text/x-python",
   "name": "python",
   "nbconvert_exporter": "python",
   "pygments_lexer": "ipython2",
   "version": "2.7.15"
  }
 },
 "nbformat": 4,
 "nbformat_minor": 2
}
